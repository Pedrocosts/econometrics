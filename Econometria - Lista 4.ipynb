{
  "metadata": {
    "language_info": {
      "codemirror_mode": {
        "name": "ipython",
        "version": 3
      },
      "file_extension": ".py",
      "mimetype": "text/x-python",
      "name": "python",
      "nbconvert_exporter": "python",
      "pygments_lexer": "ipython3",
      "version": "3.7.7-final"
    },
    "orig_nbformat": 2,
    "kernelspec": {
      "name": "python3",
      "display_name": "Python 3.7.7 64-bit ('myenv': conda)",
      "metadata": {
        "interpreter": {
          "hash": "8b633cbbc14e145906599cefe47c3dba10dc0e2c3bc4a9e7fbbaa016a7f81938"
        }
      }
    },
    "colab": {
      "provenance": [],
      "toc_visible": true
    }
  },
  "nbformat": 4,
  "nbformat_minor": 0,
  "cells": [
    {
      "cell_type": "code",
      "source": [
        "!pip install linearmodels\n",
        "!pip install wooldridge"
      ],
      "metadata": {
        "colab": {
          "base_uri": "https://localhost:8080/"
        },
        "id": "3Atuvx_T4SXS",
        "outputId": "c3f3002b-d8bb-44f1-82d5-0000a50f3d1a"
      },
      "execution_count": 151,
      "outputs": [
        {
          "output_type": "stream",
          "name": "stdout",
          "text": [
            "Requirement already satisfied: linearmodels in /usr/local/lib/python3.10/dist-packages (6.0)\n",
            "Requirement already satisfied: numpy<3,>=1.22.3 in /usr/local/lib/python3.10/dist-packages (from linearmodels) (1.25.2)\n",
            "Requirement already satisfied: pandas>=1.4.0 in /usr/local/lib/python3.10/dist-packages (from linearmodels) (2.0.3)\n",
            "Requirement already satisfied: scipy>=1.8.0 in /usr/local/lib/python3.10/dist-packages (from linearmodels) (1.11.4)\n",
            "Requirement already satisfied: statsmodels>=0.13.0 in /usr/local/lib/python3.10/dist-packages (from linearmodels) (0.14.2)\n",
            "Requirement already satisfied: mypy-extensions>=0.4 in /usr/local/lib/python3.10/dist-packages (from linearmodels) (1.0.0)\n",
            "Requirement already satisfied: Cython>=3.0.10 in /usr/local/lib/python3.10/dist-packages (from linearmodels) (3.0.10)\n",
            "Requirement already satisfied: pyhdfe>=0.1 in /usr/local/lib/python3.10/dist-packages (from linearmodels) (0.2.0)\n",
            "Requirement already satisfied: formulaic>=1.0.0 in /usr/local/lib/python3.10/dist-packages (from linearmodels) (1.0.1)\n",
            "Requirement already satisfied: setuptools-scm[toml]<9.0.0,>=8.0.0 in /usr/local/lib/python3.10/dist-packages (from linearmodels) (8.1.0)\n",
            "Requirement already satisfied: interface-meta>=1.2.0 in /usr/local/lib/python3.10/dist-packages (from formulaic>=1.0.0->linearmodels) (1.3.0)\n",
            "Requirement already satisfied: typing-extensions>=4.2.0 in /usr/local/lib/python3.10/dist-packages (from formulaic>=1.0.0->linearmodels) (4.11.0)\n",
            "Requirement already satisfied: wrapt>=1.0 in /usr/local/lib/python3.10/dist-packages (from formulaic>=1.0.0->linearmodels) (1.14.1)\n",
            "Requirement already satisfied: python-dateutil>=2.8.2 in /usr/local/lib/python3.10/dist-packages (from pandas>=1.4.0->linearmodels) (2.8.2)\n",
            "Requirement already satisfied: pytz>=2020.1 in /usr/local/lib/python3.10/dist-packages (from pandas>=1.4.0->linearmodels) (2023.4)\n",
            "Requirement already satisfied: tzdata>=2022.1 in /usr/local/lib/python3.10/dist-packages (from pandas>=1.4.0->linearmodels) (2024.1)\n",
            "Requirement already satisfied: packaging>=20 in /usr/local/lib/python3.10/dist-packages (from setuptools-scm[toml]<9.0.0,>=8.0.0->linearmodels) (24.0)\n",
            "Requirement already satisfied: setuptools in /usr/local/lib/python3.10/dist-packages (from setuptools-scm[toml]<9.0.0,>=8.0.0->linearmodels) (67.7.2)\n",
            "Requirement already satisfied: tomli>=1 in /usr/local/lib/python3.10/dist-packages (from setuptools-scm[toml]<9.0.0,>=8.0.0->linearmodels) (2.0.1)\n",
            "Requirement already satisfied: patsy>=0.5.6 in /usr/local/lib/python3.10/dist-packages (from statsmodels>=0.13.0->linearmodels) (0.5.6)\n",
            "Requirement already satisfied: six in /usr/local/lib/python3.10/dist-packages (from patsy>=0.5.6->statsmodels>=0.13.0->linearmodels) (1.16.0)\n",
            "Requirement already satisfied: wooldridge in /usr/local/lib/python3.10/dist-packages (0.4.4)\n",
            "Requirement already satisfied: pandas in /usr/local/lib/python3.10/dist-packages (from wooldridge) (2.0.3)\n",
            "Requirement already satisfied: python-dateutil>=2.8.2 in /usr/local/lib/python3.10/dist-packages (from pandas->wooldridge) (2.8.2)\n",
            "Requirement already satisfied: pytz>=2020.1 in /usr/local/lib/python3.10/dist-packages (from pandas->wooldridge) (2023.4)\n",
            "Requirement already satisfied: tzdata>=2022.1 in /usr/local/lib/python3.10/dist-packages (from pandas->wooldridge) (2024.1)\n",
            "Requirement already satisfied: numpy>=1.21.0 in /usr/local/lib/python3.10/dist-packages (from pandas->wooldridge) (1.25.2)\n",
            "Requirement already satisfied: six>=1.5 in /usr/local/lib/python3.10/dist-packages (from python-dateutil>=2.8.2->pandas->wooldridge) (1.16.0)\n"
          ]
        }
      ]
    },
    {
      "cell_type": "code",
      "execution_count": 152,
      "metadata": {
        "id": "c8klJyrVAU2u"
      },
      "outputs": [],
      "source": [
        "import pandas as pd\n",
        "import numpy as np\n",
        "import statsmodels.api as sm\n",
        "import wooldridge as wd\n",
        "from scipy import stats\n",
        "from linearmodels.iv import IV2SLS\n",
        "\n",
        "def Regressao_Multipla(x, y, constante = \"S\", cov = \"normal\"):\n",
        "    global Resultado, Lista_ychapeu, Resíduos, SQR, EPR\n",
        "\n",
        "    #adicionando uma constante ao modelo OLS\n",
        "    if constante == \"S\":\n",
        "        X = sm.add_constant(x)\n",
        "    else:\n",
        "        X = x\n",
        "\n",
        "    #Modelo levando em conta a opção de erros padrão\n",
        "    Modelo = sm.OLS(y,X)\n",
        "\n",
        "    if cov == \"robust\":\n",
        "        Resultado = Modelo.fit(cov_type = 'HC1', use_t = True)\n",
        "    elif cov == \"cluster\" or cov == \"clustered\":\n",
        "        group = str(input(\"Qual o rótulo da coluna de grupo?\"))\n",
        "        try:\n",
        "            Resultado = Modelo.fit(cov_type = 'cluster',cov_kwds  ={'groups':df[group]}, use_t = True)\n",
        "        except:\n",
        "            erro = \"Não foi possível encontrar o grupo selecionado. Tente novamente!\"\n",
        "            return erro\n",
        "    else:\n",
        "        Resultado = Modelo.fit()\n",
        "\n",
        "    Lista_ychapeu = Resultado.predict()\n",
        "    Resíduos = y - Lista_ychapeu\n",
        "\n",
        "    #calculando o Erro Padrão da Regressão (EPR)\n",
        "    SQR =sum([i**2 for i in Resíduos])\n",
        "    Número_de_Observações = len(y)\n",
        "    GL = Número_de_Observações - len(Resultado.params)\n",
        "    VarianciaReg = SQR/GL\n",
        "    EPR = math.sqrt(VarianciaReg)\n",
        "\n",
        "    ##Printando o Resultado\n",
        "    print(Resultado.summary())\n",
        "\n",
        "def Regressao_IV_MQ2E(exog, endog, instrumentos, y, constante=\"S\",cov='normal'):\n",
        "    global df, Resultado\n",
        "    ## formando o vetor de variáveis exógenas\n",
        "    if constante == \"S\":\n",
        "        try:\n",
        "            exog = sm.add_constant(exog)\n",
        "        except Exception: ## se não houver exógenas no modelo\n",
        "            exog = np.resize([1],endog.shape[0])\n",
        "            exog = pd.DataFrame({'const':exog})\n",
        "    else:\n",
        "        exog = exog\n",
        "\n",
        "    ## criando o modelo levando em conta a opção de covariância\n",
        "    Modelo = IV2SLS(y,exog,endog,instrumentos)\n",
        "    if cov == \"robust\":\n",
        "        Resultado = Modelo.fit(cov_type = 'robust')\n",
        "    elif cov == 'kernel': ## correlação robusta à heteroscedasticidade e autocorrelação serial\n",
        "        Resultado = Modelo.fit(cov_type = 'kernel')\n",
        "    elif cov == 'clustered' or cov == 'cluster':\n",
        "        Resultado = Modelo.fit(cov_type = 'clustered', cluster_entity = True)\n",
        "    else:\n",
        "        Resultado = Modelo.fit(cov_type='unadjusted')\n",
        "\n",
        "    print(Resultado)"
      ]
    },
    {
      "source": [
        "## Exercício C2"
      ],
      "cell_type": "markdown",
      "metadata": {
        "id": "L6pPrbmRAU3A"
      }
    },
    {
      "cell_type": "code",
      "execution_count": 153,
      "metadata": {
        "id": "003ORd7DAU3A"
      },
      "outputs": [],
      "source": [
        "df = wd.data('fertil2')"
      ]
    },
    {
      "cell_type": "code",
      "execution_count": 154,
      "metadata": {
        "colab": {
          "base_uri": "https://localhost:8080/"
        },
        "id": "dYERIKrzAU3A",
        "outputId": "4be4c785-56d6-402c-b0de-0f973eb8e483"
      },
      "outputs": [
        {
          "output_type": "stream",
          "name": "stdout",
          "text": [
            "                            OLS Estimation Summary                            \n",
            "==============================================================================\n",
            "Dep. Variable:               children   R-squared:                      0.5687\n",
            "Estimator:                        OLS   Adj. R-squared:                 0.5684\n",
            "No. Observations:                4361   F-statistic:                    5750.9\n",
            "Date:                Sun, May 26 2024   P-value (F-stat)                0.0000\n",
            "Time:                        20:28:37   Distribution:                  chi2(3)\n",
            "Cov. Estimator:            unadjusted                                         \n",
            "                                                                              \n",
            "                             Parameter Estimates                              \n",
            "==============================================================================\n",
            "            Parameter  Std. Err.     T-stat    P-value    Lower CI    Upper CI\n",
            "------------------------------------------------------------------------------\n",
            "const         -4.1383     0.2405    -17.208     0.0000     -4.6096     -3.6670\n",
            "educ          -0.0906     0.0059    -15.305     0.0000     -0.1022     -0.0790\n",
            "age            0.3324     0.0165     20.097     0.0000      0.3000      0.3649\n",
            "agesq         -0.0026     0.0003    -9.6556     0.0000     -0.0032     -0.0021\n",
            "==============================================================================\n"
          ]
        }
      ],
      "source": [
        "# estimando o modelo proposto por MQO\n",
        "exog = df[['educ','age','agesq']]\n",
        "endog = None\n",
        "instrumentos = None\n",
        "y = df['children']\n",
        "\n",
        "modelo = Regressao_IV_MQ2E(exog= exog, endog= endog, instrumentos= instrumentos, y=y)"
      ]
    },
    {
      "cell_type": "code",
      "execution_count": 155,
      "metadata": {
        "colab": {
          "base_uri": "https://localhost:8080/"
        },
        "id": "cNyiDt_UAU3B",
        "outputId": "2fcd987c-058a-4188-c237-6e31fc49d94a"
      },
      "outputs": [
        {
          "output_type": "stream",
          "name": "stdout",
          "text": [
            "                            OLS Estimation Summary                            \n",
            "==============================================================================\n",
            "Dep. Variable:                   educ   R-squared:                      0.1077\n",
            "Estimator:                        OLS   Adj. R-squared:                 0.1070\n",
            "No. Observations:                4361   F-statistic:                    526.10\n",
            "Date:                Sun, May 26 2024   P-value (F-stat)                0.0000\n",
            "Time:                        20:28:37   Distribution:                  chi2(3)\n",
            "Cov. Estimator:            unadjusted                                         \n",
            "                                                                              \n",
            "                             Parameter Estimates                              \n",
            "==============================================================================\n",
            "            Parameter  Std. Err.     T-stat    P-value    Lower CI    Upper CI\n",
            "------------------------------------------------------------------------------\n",
            "const          9.6929     0.5978     16.214     0.0000      8.5212      10.865\n",
            "frsthalf      -0.8523     0.1128    -7.5572     0.0000     -1.0733     -0.6312\n",
            "age           -0.1080     0.0420    -2.5690     0.0102     -0.1903     -0.0256\n",
            "agesq         -0.0005     0.0007    -0.7299     0.4654     -0.0019      0.0009\n",
            "==============================================================================\n"
          ]
        }
      ],
      "source": [
        "## sendo frsthalf exógena, resta testar sua relevância\n",
        "exog = df[['frsthalf','age','agesq']]\n",
        "endog = None\n",
        "instrumentos = None\n",
        "y = df['educ']\n",
        "\n",
        "Regressao_IV_MQ2E(exog= exog, endog= endog, instrumentos= instrumentos, y=y)"
      ]
    },
    {
      "cell_type": "code",
      "execution_count": 156,
      "metadata": {
        "colab": {
          "base_uri": "https://localhost:8080/"
        },
        "id": "cslj-prXAU3B",
        "outputId": "9ddd9201-f977-40eb-e20e-f36597228eee"
      },
      "outputs": [
        {
          "output_type": "stream",
          "name": "stdout",
          "text": [
            "                          IV-2SLS Estimation Summary                          \n",
            "==============================================================================\n",
            "Dep. Variable:               children   R-squared:                      0.5502\n",
            "Estimator:                    IV-2SLS   Adj. R-squared:                 0.5499\n",
            "No. Observations:                4361   F-statistic:                    5300.2\n",
            "Date:                Sun, May 26 2024   P-value (F-stat)                0.0000\n",
            "Time:                        20:28:37   Distribution:                  chi2(3)\n",
            "Cov. Estimator:            unadjusted                                         \n",
            "                                                                              \n",
            "                             Parameter Estimates                              \n",
            "==============================================================================\n",
            "            Parameter  Std. Err.     T-stat    P-value    Lower CI    Upper CI\n",
            "------------------------------------------------------------------------------\n",
            "const         -3.3878     0.5479    -6.1833     0.0000     -4.4617     -2.3139\n",
            "age            0.3236     0.0179     18.128     0.0000      0.2886      0.3586\n",
            "agesq         -0.0027     0.0003    -9.5589     0.0000     -0.0032     -0.0021\n",
            "educ          -0.1715     0.0532    -3.2264     0.0013     -0.2757     -0.0673\n",
            "==============================================================================\n",
            "\n",
            "Endogenous: educ\n",
            "Instruments: frsthalf\n",
            "Unadjusted Covariance (Homoskedastic)\n",
            "Debiased: False\n"
          ]
        }
      ],
      "source": [
        "# estimando o modelo proposto por MQ2E\n",
        "exog = df[['age','agesq']]\n",
        "endog = df[['educ']]\n",
        "instrumentos = df[['frsthalf']]\n",
        "y = df['children']\n",
        "\n",
        "Regressao_IV_MQ2E(exog= exog, endog= endog, instrumentos= instrumentos, y=y)"
      ]
    },
    {
      "cell_type": "code",
      "execution_count": 157,
      "metadata": {
        "colab": {
          "base_uri": "https://localhost:8080/"
        },
        "id": "12q-PQbfAU3D",
        "outputId": "a4240e26-b164-46c6-a186-18a87e82a6e6"
      },
      "outputs": [
        {
          "output_type": "stream",
          "name": "stdout",
          "text": [
            "                          IV-2SLS Estimation Summary                          \n",
            "==============================================================================\n",
            "Dep. Variable:               children   R-squared:                      0.5577\n",
            "Estimator:                    IV-2SLS   Adj. R-squared:                 0.5571\n",
            "No. Observations:                4356   F-statistic:                    5539.2\n",
            "Date:                Sun, May 26 2024   P-value (F-stat)                0.0000\n",
            "Time:                        20:28:37   Distribution:                  chi2(6)\n",
            "Cov. Estimator:            unadjusted                                         \n",
            "                                                                              \n",
            "                             Parameter Estimates                              \n",
            "==============================================================================\n",
            "            Parameter  Std. Err.     T-stat    P-value    Lower CI    Upper CI\n",
            "------------------------------------------------------------------------------\n",
            "const         -3.5913     0.6446    -5.5717     0.0000     -4.8547     -2.3280\n",
            "age            0.3281     0.0190     17.231     0.0000      0.2908      0.3655\n",
            "agesq         -0.0027     0.0003    -9.8509     0.0000     -0.0033     -0.0022\n",
            "electric      -0.1065     0.1658    -0.6424     0.5206     -0.4316      0.2185\n",
            "tv            -0.0026     0.2091    -0.0122     0.9902     -0.4123      0.4072\n",
            "bicycle        0.3321     0.0515     6.4499     0.0000      0.2312      0.4330\n",
            "educ          -0.1640     0.0655    -2.5045     0.0123     -0.2923     -0.0357\n",
            "==============================================================================\n",
            "\n",
            "Endogenous: educ\n",
            "Instruments: frsthalf\n",
            "Unadjusted Covariance (Homoskedastic)\n",
            "Debiased: False\n"
          ]
        },
        {
          "output_type": "stream",
          "name": "stderr",
          "text": [
            "/usr/local/lib/python3.10/dist-packages/linearmodels/iv/model.py:550: MissingValueWarning: \n",
            "Inputs contain missing values. Dropping rows with missing observations.\n",
            "  super().__init__(\n"
          ]
        }
      ],
      "source": [
        "# adicionando dummies exógenas e estimando por MQ2E\n",
        "exog = df[['age','agesq','electric','tv','bicycle']]\n",
        "endog = df[['educ']]\n",
        "instrumentos = df[['frsthalf']]\n",
        "y = df['children']\n",
        "\n",
        "Regressao_IV_MQ2E(exog= exog, endog= endog, instrumentos= instrumentos, y=y)"
      ]
    },
    {
      "cell_type": "code",
      "execution_count": 158,
      "metadata": {
        "colab": {
          "base_uri": "https://localhost:8080/"
        },
        "id": "FNF23eT2AU3E",
        "outputId": "83c565e0-0edb-471c-9e7b-f46fe22c8b85"
      },
      "outputs": [
        {
          "output_type": "stream",
          "name": "stdout",
          "text": [
            "                            OLS Estimation Summary                            \n",
            "==============================================================================\n",
            "Dep. Variable:               children   R-squared:                      0.5761\n",
            "Estimator:                        OLS   Adj. R-squared:                 0.5755\n",
            "No. Observations:                4356   F-statistic:                    5919.0\n",
            "Date:                Sun, May 26 2024   P-value (F-stat)                0.0000\n",
            "Time:                        20:28:37   Distribution:                  chi2(6)\n",
            "Cov. Estimator:            unadjusted                                         \n",
            "                                                                              \n",
            "                             Parameter Estimates                              \n",
            "==============================================================================\n",
            "            Parameter  Std. Err.     T-stat    P-value    Lower CI    Upper CI\n",
            "------------------------------------------------------------------------------\n",
            "const         -4.3898     0.2401    -18.281     0.0000     -4.8604     -3.9191\n",
            "age            0.3402     0.0164     20.708     0.0000      0.3080      0.3724\n",
            "agesq         -0.0027     0.0003    -10.018     0.0000     -0.0032     -0.0022\n",
            "electric      -0.3027     0.0761    -3.9767     0.0001     -0.4519     -0.1535\n",
            "tv            -0.2531     0.0914    -2.7707     0.0056     -0.4322     -0.0741\n",
            "bicycle        0.3179     0.0493     6.4447     0.0000      0.2212      0.4146\n",
            "educ          -0.0767     0.0063    -12.085     0.0000     -0.0892     -0.0643\n",
            "==============================================================================\n"
          ]
        },
        {
          "output_type": "stream",
          "name": "stderr",
          "text": [
            "/usr/local/lib/python3.10/dist-packages/linearmodels/iv/model.py:550: MissingValueWarning: \n",
            "Inputs contain missing values. Dropping rows with missing observations.\n",
            "  super().__init__(\n"
          ]
        }
      ],
      "source": [
        "## adicionando dummies exógenas e estimando por MQ0\n",
        "exog = df[['age','agesq','electric','tv','bicycle','educ']]\n",
        "endog = None\n",
        "instrumentos = None\n",
        "y = df['children']\n",
        "\n",
        "Regressao_IV_MQ2E(exog= exog, endog= endog, instrumentos= instrumentos, y=y)"
      ]
    },
    {
      "source": [
        "## Exercício C9"
      ],
      "cell_type": "markdown",
      "metadata": {
        "id": "cZENTlVeAU3X"
      }
    },
    {
      "cell_type": "code",
      "execution_count": 159,
      "metadata": {
        "id": "Z68B6c3uAU3X"
      },
      "outputs": [],
      "source": [
        "df = wd.data('wage2')"
      ]
    },
    {
      "cell_type": "code",
      "execution_count": 160,
      "metadata": {
        "colab": {
          "base_uri": "https://localhost:8080/"
        },
        "id": "eCGMs9fjAU3X",
        "outputId": "2aa4bc53-49f3-468a-e132-e95b21e07df2"
      },
      "outputs": [
        {
          "output_type": "stream",
          "name": "stdout",
          "text": [
            "                          IV-2SLS Estimation Summary                          \n",
            "==============================================================================\n",
            "Dep. Variable:                  lwage   R-squared:                      0.1685\n",
            "Estimator:                    IV-2SLS   Adj. R-squared:                 0.1650\n",
            "No. Observations:                 935   F-statistic:                    100.22\n",
            "Date:                Sun, May 26 2024   P-value (F-stat)                0.0000\n",
            "Time:                        20:28:37   Distribution:                  chi2(4)\n",
            "Cov. Estimator:            unadjusted                                         \n",
            "                                                                              \n",
            "                             Parameter Estimates                              \n",
            "==============================================================================\n",
            "            Parameter  Std. Err.     T-stat    P-value    Lower CI    Upper CI\n",
            "------------------------------------------------------------------------------\n",
            "const          5.2160     0.5420     9.6236     0.0000      4.1537      6.2783\n",
            "exper          0.0209     0.0084     2.5010     0.0124      0.0045      0.0373\n",
            "tenure         0.0115     0.0027     4.2265     0.0000      0.0062      0.0169\n",
            "black         -0.1833     0.0500    -3.6665     0.0002     -0.2813     -0.0853\n",
            "educ           0.0936     0.0336     2.7843     0.0054      0.0277      0.1595\n",
            "==============================================================================\n",
            "\n",
            "Endogenous: educ\n",
            "Instruments: sibs\n",
            "Unadjusted Covariance (Homoskedastic)\n",
            "Debiased: False\n"
          ]
        }
      ],
      "source": [
        "## fazendo o modelo por mq2e\n",
        "exog = df[['exper','tenure','black']]\n",
        "endog = df[['educ']]\n",
        "instrumentos = df[['sibs']]\n",
        "y = df['lwage']\n",
        "\n",
        "Regressao_IV_MQ2E(exog= exog, endog= endog, instrumentos= instrumentos, y=y)"
      ]
    },
    {
      "cell_type": "code",
      "execution_count": 161,
      "metadata": {
        "colab": {
          "base_uri": "https://localhost:8080/"
        },
        "id": "fOj2NeklAU3Y",
        "outputId": "1c3252a9-0def-48d7-ab1b-a673035d9f23"
      },
      "outputs": [
        {
          "output_type": "stream",
          "name": "stdout",
          "text": [
            "                            OLS Regression Results                            \n",
            "==============================================================================\n",
            "Dep. Variable:                   educ   R-squared:                       0.264\n",
            "Model:                            OLS   Adj. R-squared:                  0.261\n",
            "Method:                 Least Squares   F-statistic:                     83.48\n",
            "Date:                Sun, 26 May 2024   Prob (F-statistic):           1.38e-60\n",
            "Time:                        20:28:37   Log-Likelihood:                -1918.6\n",
            "No. Observations:                 935   AIC:                             3847.\n",
            "Df Residuals:                     930   BIC:                             3871.\n",
            "Df Model:                           4                                         \n",
            "Covariance Type:            nonrobust                                         \n",
            "==============================================================================\n",
            "                 coef    std err          t      P>|t|      [0.025      0.975]\n",
            "------------------------------------------------------------------------------\n",
            "const         16.4943      0.195     84.541      0.000      16.111      16.877\n",
            "sibs          -0.1703      0.028     -6.044      0.000      -0.226      -0.115\n",
            "exper         -0.2277      0.015    -15.561      0.000      -0.256      -0.199\n",
            "tenure         0.0259      0.013      2.054      0.040       0.001       0.051\n",
            "black         -0.6227      0.195     -3.198      0.001      -1.005      -0.241\n",
            "==============================================================================\n",
            "Omnibus:                       31.027   Durbin-Watson:                   1.858\n",
            "Prob(Omnibus):                  0.000   Jarque-Bera (JB):               27.058\n",
            "Skew:                           0.351   Prob(JB):                     1.33e-06\n",
            "Kurtosis:                       2.552   Cond. No.                         47.3\n",
            "==============================================================================\n",
            "\n",
            "Notes:\n",
            "[1] Standard Errors assume that the covariance matrix of the errors is correctly specified.\n"
          ]
        }
      ],
      "source": [
        "x = df[['sibs','exper','tenure','black']]\n",
        "y = df['educ']\n",
        "\n",
        "Regressao_Multipla(x,y)"
      ]
    },
    {
      "cell_type": "code",
      "source": [
        "df['educ_chapeu'] = Lista_ychapeu\n",
        "\n",
        "x = df[['exper','tenure','black','educ_chapeu']]\n",
        "y = df['lwage']\n",
        "\n",
        "Regressao_Multipla(x,y)"
      ],
      "metadata": {
        "colab": {
          "base_uri": "https://localhost:8080/"
        },
        "id": "0recVx2WhbZ1",
        "outputId": "47db7bd7-ba34-4590-a0f7-e545fa001497"
      },
      "execution_count": 162,
      "outputs": [
        {
          "output_type": "stream",
          "name": "stdout",
          "text": [
            "                            OLS Regression Results                            \n",
            "==============================================================================\n",
            "Dep. Variable:                  lwage   R-squared:                       0.089\n",
            "Model:                            OLS   Adj. R-squared:                  0.085\n",
            "Method:                 Least Squares   F-statistic:                     22.75\n",
            "Date:                Sun, 26 May 2024   Prob (F-statistic):           5.99e-18\n",
            "Time:                        20:28:37   Log-Likelihood:                -474.00\n",
            "No. Observations:                 935   AIC:                             958.0\n",
            "Df Residuals:                     930   BIC:                             982.2\n",
            "Df Model:                           4                                         \n",
            "Covariance Type:            nonrobust                                         \n",
            "===============================================================================\n",
            "                  coef    std err          t      P>|t|      [0.025      0.975]\n",
            "-------------------------------------------------------------------------------\n",
            "const           5.2160      0.569      9.170      0.000       4.100       6.332\n",
            "exper           0.0209      0.009      2.383      0.017       0.004       0.038\n",
            "tenure          0.0115      0.003      4.027      0.000       0.006       0.017\n",
            "black          -0.1833      0.052     -3.494      0.000      -0.286      -0.080\n",
            "educ_chapeu     0.0936      0.035      2.653      0.008       0.024       0.163\n",
            "==============================================================================\n",
            "Omnibus:                       19.516   Durbin-Watson:                   1.717\n",
            "Prob(Omnibus):                  0.000   Jarque-Bera (JB):               29.824\n",
            "Skew:                          -0.182   Prob(JB):                     3.34e-07\n",
            "Kurtosis:                       3.795   Cond. No.                         844.\n",
            "==============================================================================\n",
            "\n",
            "Notes:\n",
            "[1] Standard Errors assume that the covariance matrix of the errors is correctly specified.\n"
          ]
        }
      ]
    },
    {
      "cell_type": "code",
      "source": [
        "x = df[['sibs']]\n",
        "y = df['educ']\n",
        "\n",
        "Regressao_Multipla(x,y)"
      ],
      "metadata": {
        "colab": {
          "base_uri": "https://localhost:8080/"
        },
        "id": "UzUEy6wIkPjg",
        "outputId": "0be7b454-b8e2-4c59-f7fc-53385834de20"
      },
      "execution_count": 163,
      "outputs": [
        {
          "output_type": "stream",
          "name": "stdout",
          "text": [
            "                            OLS Regression Results                            \n",
            "==============================================================================\n",
            "Dep. Variable:                   educ   R-squared:                       0.057\n",
            "Model:                            OLS   Adj. R-squared:                  0.056\n",
            "Method:                 Least Squares   F-statistic:                     56.67\n",
            "Date:                Sun, 26 May 2024   Prob (F-statistic):           1.22e-13\n",
            "Time:                        20:28:37   Log-Likelihood:                -2034.4\n",
            "No. Observations:                 935   AIC:                             4073.\n",
            "Df Residuals:                     933   BIC:                             4083.\n",
            "Df Model:                           1                                         \n",
            "Covariance Type:            nonrobust                                         \n",
            "==============================================================================\n",
            "                 coef    std err          t      P>|t|      [0.025      0.975]\n",
            "------------------------------------------------------------------------------\n",
            "const         14.1388      0.113    124.969      0.000      13.917      14.361\n",
            "sibs          -0.2279      0.030     -7.528      0.000      -0.287      -0.168\n",
            "==============================================================================\n",
            "Omnibus:                       69.595   Durbin-Watson:                   1.797\n",
            "Prob(Omnibus):                  0.000   Jarque-Bera (JB):               55.996\n",
            "Skew:                           0.512   Prob(JB):                     6.93e-13\n",
            "Kurtosis:                       2.376   Cond. No.                         6.33\n",
            "==============================================================================\n",
            "\n",
            "Notes:\n",
            "[1] Standard Errors assume that the covariance matrix of the errors is correctly specified.\n"
          ]
        }
      ]
    },
    {
      "cell_type": "code",
      "execution_count": 164,
      "metadata": {
        "colab": {
          "base_uri": "https://localhost:8080/"
        },
        "id": "WQ0Vj57yAU3Y",
        "outputId": "81325252-1498-41e2-8fe6-744c5c35fa4c"
      },
      "outputs": [
        {
          "output_type": "stream",
          "name": "stdout",
          "text": [
            "                            OLS Regression Results                            \n",
            "==============================================================================\n",
            "Dep. Variable:                  lwage   R-squared:                       0.089\n",
            "Model:                            OLS   Adj. R-squared:                  0.085\n",
            "Method:                 Least Squares   F-statistic:                     22.75\n",
            "Date:                Sun, 26 May 2024   Prob (F-statistic):           5.99e-18\n",
            "Time:                        20:28:37   Log-Likelihood:                -474.00\n",
            "No. Observations:                 935   AIC:                             958.0\n",
            "Df Residuals:                     930   BIC:                             982.2\n",
            "Df Model:                           4                                         \n",
            "Covariance Type:            nonrobust                                         \n",
            "===============================================================================\n",
            "                  coef    std err          t      P>|t|      [0.025      0.975]\n",
            "-------------------------------------------------------------------------------\n",
            "const           5.7710      0.360     16.014      0.000       5.064       6.478\n",
            "exper          -0.0004      0.003     -0.126      0.900      -0.007       0.006\n",
            "tenure          0.0140      0.003      5.193      0.000       0.009       0.019\n",
            "black          -0.2416      0.042     -5.819      0.000      -0.323      -0.160\n",
            "educ_chapeu     0.0700      0.026      2.653      0.008       0.018       0.122\n",
            "==============================================================================\n",
            "Omnibus:                       19.516   Durbin-Watson:                   1.717\n",
            "Prob(Omnibus):                  0.000   Jarque-Bera (JB):               29.824\n",
            "Skew:                          -0.182   Prob(JB):                     3.34e-07\n",
            "Kurtosis:                       3.795   Cond. No.                         536.\n",
            "==============================================================================\n",
            "\n",
            "Notes:\n",
            "[1] Standard Errors assume that the covariance matrix of the errors is correctly specified.\n"
          ]
        }
      ],
      "source": [
        "df['educ_chapeu'] = Lista_ychapeu\n",
        "\n",
        "x = df[['exper','tenure','black','educ_chapeu']]\n",
        "y = df['lwage']\n",
        "\n",
        "Regressao_Multipla(x,y)"
      ]
    }
  ]
}